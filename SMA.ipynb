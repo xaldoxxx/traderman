{
  "nbformat": 4,
  "nbformat_minor": 0,
  "metadata": {
    "colab": {
      "provenance": [],
      "authorship_tag": "ABX9TyNW1RjTTfWgHloa4/6UJ6sk",
      "include_colab_link": true
    },
    "kernelspec": {
      "name": "python3",
      "display_name": "Python 3"
    },
    "language_info": {
      "name": "python"
    }
  },
  "cells": [
    {
      "cell_type": "markdown",
      "metadata": {
        "id": "view-in-github",
        "colab_type": "text"
      },
      "source": [
        "<a href=\"https://colab.research.google.com/github/xaldoxxx/traderman/blob/main/SMA.ipynb\" target=\"_parent\"><img src=\"https://colab.research.google.com/assets/colab-badge.svg\" alt=\"Open In Colab\"/></a>"
      ]
    },
    {
      "cell_type": "code",
      "execution_count": null,
      "metadata": {
        "id": "HkvzNBjf6uq_"
      },
      "outputs": [],
      "source": [
        "url = 'https://anaconda.org/conda-forge/libta-lib/0.4.0/download/linux-64/libta-lib-0.4.0-h166bdaf_1.tar.bz2'\n",
        "!curl -L $url | tar xj -C /usr/lib/x86_64-linux-gnu/ lib --strip-components=1\n",
        "url = 'https://anaconda.org/conda-forge/ta-lib/0.4.19/download/linux-64/ta-lib-0.4.19-py310hde88566_4.tar.bz2'\n",
        "!curl -L $url | tar xj -C /usr/local/lib/python3.10/dist-packages/ lib/python3.10/site-packages/talib --strip-components=3\n",
        "!pip install ccxt"
      ]
    },
    {
      "cell_type": "code",
      "source": [
        "# reversionmedia.py\n",
        "import pandas as pd\n",
        "import numpy as np\n",
        "import yfinance as yf\n",
        "import talib as ta\n",
        "from scipy.optimize import brute\n",
        "import plotly.graph_objects as go\n",
        "from datetime import datetime, timedelta\n",
        "\n",
        "class ReversionMedia:\n",
        "    def __init__(self, simbolo, fecha_inicio, fecha_fin, intervalo, dias):\n",
        "        self.simbolo = simbolo\n",
        "        self.fecha_inicio = fecha_inicio\n",
        "        self.fecha_fin = fecha_fin\n",
        "        self.intervalo = intervalo\n",
        "        self.dias = dias\n",
        "\n",
        "    def obtener_datos_historicos(self):\n",
        "        datos = yf.download(self.simbolo, start=self.fecha_inicio, end=self.fecha_fin, interval=self.intervalo)\n",
        "        return datos\n",
        "\n",
        "    def calcular_media_movil(self, datos, ventana):\n",
        "        datos['SMA'] = ta.SMA(datos['Close'], timeperiod=ventana)\n",
        "        return datos\n",
        "\n",
        "    def estrategia_mean_reversion(self, datos, ventana, desviacion):\n",
        "        datos = self.calcular_media_movil(datos, ventana)\n",
        "        datos['Desviacion'] = ta.STDDEV(datos['Close'], timeperiod=ventana)\n",
        "        datos['Upper_band'] = datos['SMA'] + (datos['Desviacion'] * desviacion)\n",
        "        datos['Lower_band'] = datos['SMA'] - (datos['Desviacion'] * desviacion)\n",
        "        return datos\n",
        "\n",
        "    def graficar_datos(self, datos):\n",
        "        fig = go.Figure()\n",
        "\n",
        "        fig.add_trace(go.Scatter(x=datos.index, y=datos['Close'], mode='lines', name='Precio de cierre', line=dict(color='black')))\n",
        "        fig.add_trace(go.Scatter(x=datos.index, y=datos['SMA'], mode='lines', name='Media móvil', line=dict(color='blue')))\n",
        "        fig.add_trace(go.Scatter(x=datos.index, y=datos['Upper_band'], mode='lines', name='Límite superior', line=dict(color='red', dash='dash')))\n",
        "        fig.add_trace(go.Scatter(x=datos.index, y=datos['Lower_band'], mode='lines', name='Límite inferior', line=dict(color='green', dash='dash')))\n",
        "\n",
        "        fig.update_layout(title='Estrategia de Mean Reversion',\n",
        "                          xaxis_title='Fecha',\n",
        "                          yaxis_title='Precio')\n",
        "\n",
        "        fig.show()\n",
        "\n",
        "# Configuración de parámetros\n",
        "# Configuración de parámetros\n",
        "simbolo = \"BTC-USD\" #@param [\"BTC-USD\", \"ETH-USD\", \"ADA-USD\", \"SOL-USD\", \"DOT-USD\", \"USDT-USD\", \"DAI-USD\", \"USDC-USD\", \"LUNA-USD\", \"MATIC-USD\", \"AVAX-USD\", \"BNB-USD\", \"MANA-USD\", \"SAND-USD\", \"SLP-USD\", \"AXS-USD\", \"UNI-USD\", \"ALGO-USD\", \"AAVE-USD\", \"ENS-USD\", \"NEAR-USD\", \"FTM-USD\", \"PAXG-USD\", \"DOGE-USD\", \"TRX-USD\", \"ARB-USD\", \"LTC-USD\", \"XLM-USD\", \"OP-USD\", \"TRX-USD\", \"LUNA-USD\"]\n",
        "dias = \"1\"  #@param [\"59\", \"15\", \"7\", \"1\"]\n",
        "intervalo = \"90m\" #@param [\"1m\", \"5m\", \"15m\", \"60m\", \"90m\", \"120m\", \"1d\"]\n",
        "\n",
        "fecha_inicio = datetime.now() - timedelta(days=int(dias))\n",
        "fecha_fin = datetime.now()\n",
        "\n",
        "# Crear instancia de la clase ReversionMedia\n",
        "reversion_media = ReversionMedia(simbolo, fecha_inicio, fecha_fin, intervalo, int(dias))\n",
        "\n",
        "# Obtener datos históricos\n",
        "datos_historicos = reversion_media.obtener_datos_historicos()\n",
        "\n",
        "# Ejecutar estrategia de mean reversion\n",
        "ventana = 20\n",
        "desviacion = 2\n",
        "datos_con_estrategia = reversion_media.estrategia_mean_reversion(datos_historicos, ventana, desviacion)\n",
        "\n",
        "# Graficar datos\n",
        "reversion_media.graficar_datos(datos_con_estrategia)"
      ],
      "metadata": {
        "id": "Rqy33P0n-O_g"
      },
      "execution_count": null,
      "outputs": []
    },
    {
      "cell_type": "code",
      "source": [
        "class ReversionMedia:\n",
        "    def __init__(self, simbolo, fecha_inicio, fecha_fin, intervalo, dias):\n",
        "        self.simbolo = simbolo\n",
        "        self.fecha_inicio = fecha_inicio\n",
        "        self.fecha_fin = fecha_fin\n",
        "        self.intervalo = intervalo\n",
        "        self.dias = dias\n",
        "\n",
        "    def obtener_datos_historicos(self):\n",
        "        datos = yf.download(self.simbolo, start=self.fecha_inicio, end=self.fecha_fin, interval=self.intervalo)\n",
        "        return datos\n",
        "\n",
        "    def calcular_media_movil(self, datos, ventana):\n",
        "        datos['SMA'] = ta.SMA(datos['Close'], timeperiod=ventana)\n",
        "        return datos\n",
        "\n",
        "    def estrategia_mean_reversion(self, datos, ventana, desviacion):\n",
        "        datos = self.calcular_media_movil(datos, ventana)\n",
        "        datos['Desviacion'] = ta.STDDEV(datos['Close'], timeperiod=ventana)\n",
        "        datos['Upper_band'] = datos['SMA'] + (datos['Desviacion'] * desviacion)\n",
        "        datos['Lower_band'] = datos['SMA'] - (datos['Desviacion'] * desviacion)\n",
        "        return datos\n",
        "\n",
        "    def tomar_decision(self, datos):\n",
        "        ultimo_dato = datos.iloc[-1]\n",
        "        if ultimo_dato['Close'] > ultimo_dato['Upper_band']:\n",
        "            return \"Vender\"\n",
        "        elif ultimo_dato['Close'] < ultimo_dato['Lower_band']:\n",
        "            return \"Comprar\"\n",
        "        else:\n",
        "            return \"Esperar\"\n",
        "\n",
        "    def graficar_datos(self, datos):\n",
        "        fig = go.Figure()\n",
        "\n",
        "        fig.add_trace(go.Scatter(x=datos.index, y=datos['Close'], mode='lines', name='Precio de cierre', line=dict(color='black')))\n",
        "        fig.add_trace(go.Scatter(x=datos.index, y=datos['SMA'], mode='lines', name='Media móvil', line=dict(color='blue')))\n",
        "        fig.add_trace(go.Scatter(x=datos.index, y=datos['Upper_band'], mode='lines', name='Límite superior', line=dict(color='red', dash='dash')))\n",
        "        fig.add_trace(go.Scatter(x=datos.index, y=datos['Lower_band'], mode='lines', name='Límite inferior', line=dict(color='green', dash='dash')))\n",
        "\n",
        "        fig.update_layout(title='Estrategia de Mean Reversion',\n",
        "                          xaxis_title='Fecha',\n",
        "                          yaxis_title='Precio')\n",
        "\n",
        "        fig.show()\n",
        "\n",
        "\n",
        "# Configuración de parámetros\n",
        "simbolo = \"BTC-USD\" #@param [\"BTC-USD\", \"ETH-USD\", \"ADA-USD\", \"SOL-USD\", \"DOT-USD\", \"USDT-USD\", \"DAI-USD\", \"USDC-USD\", \"LUNA-USD\", \"MATIC-USD\", \"AVAX-USD\", \"BNB-USD\", \"MANA-USD\", \"SAND-USD\", \"SLP-USD\", \"AXS-USD\", \"UNI-USD\", \"ALGO-USD\", \"AAVE-USD\", \"ENS-USD\", \"NEAR-USD\", \"FTM-USD\", \"PAXG-USD\", \"DOGE-USD\", \"TRX-USD\", \"ARB-USD\", \"LTC-USD\", \"XLM-USD\", \"OP-USD\", \"TRX-USD\", \"LUNA-USD\"]\n",
        "dias = \"7\"  #@param [\"59\", \"15\", \"7\", \"1\"]\n",
        "intervalo = \"5m\" #@param [\"1m\", \"5m\", \"15m\", \"60m\", \"90m\", \"120m\", \"1d\"]\n",
        "\n",
        "fecha_inicio = datetime.now() - timedelta(days=int(dias))\n",
        "fecha_fin = datetime.now()\n",
        "\n",
        "# Crear instancia de la clase ReversionMedia\n",
        "reversion_media = ReversionMedia(simbolo, fecha_inicio, fecha_fin, intervalo, int(dias))\n",
        "\n",
        "# Obtener datos históricos\n",
        "datos_historicos = reversion_media.obtener_datos_historicos()\n",
        "\n",
        "# Ejecutar estrategia de mean reversion\n",
        "ventana = 20\n",
        "desviacion = 2\n",
        "datos_con_estrategia = reversion_media.estrategia_mean_reversion(datos_historicos, ventana, desviacion)\n",
        "\n",
        "# Graficar datos\n",
        "reversion_media.graficar_datos(datos_con_estrategia)\n",
        "\n",
        "# Tomar decisión basada en la estrategia de reversión a la media\n",
        "decision = reversion_media.tomar_decision(datos_con_estrategia)\n",
        "print(\"Decisión:\", decision)\n"
      ],
      "metadata": {
        "colab": {
          "base_uri": "https://localhost:8080/",
          "height": 211
        },
        "id": "CxGgchSk-hGK",
        "outputId": "525d7965-f531-4433-ea76-f857534285c6"
      },
      "execution_count": 3,
      "outputs": [
        {
          "output_type": "error",
          "ename": "NameError",
          "evalue": "name 'datetime' is not defined",
          "traceback": [
            "\u001b[0;31m---------------------------------------------------------------------------\u001b[0m",
            "\u001b[0;31mNameError\u001b[0m                                 Traceback (most recent call last)",
            "\u001b[0;32m<ipython-input-3-551391188439>\u001b[0m in \u001b[0;36m<cell line: 53>\u001b[0;34m()\u001b[0m\n\u001b[1;32m     51\u001b[0m \u001b[0mintervalo\u001b[0m \u001b[0;34m=\u001b[0m \u001b[0;34m\"5m\"\u001b[0m \u001b[0;31m#@param [\"1m\", \"5m\", \"15m\", \"60m\", \"90m\", \"120m\", \"1d\"]\u001b[0m\u001b[0;34m\u001b[0m\u001b[0;34m\u001b[0m\u001b[0m\n\u001b[1;32m     52\u001b[0m \u001b[0;34m\u001b[0m\u001b[0m\n\u001b[0;32m---> 53\u001b[0;31m \u001b[0mfecha_inicio\u001b[0m \u001b[0;34m=\u001b[0m \u001b[0mdatetime\u001b[0m\u001b[0;34m.\u001b[0m\u001b[0mnow\u001b[0m\u001b[0;34m(\u001b[0m\u001b[0;34m)\u001b[0m \u001b[0;34m-\u001b[0m \u001b[0mtimedelta\u001b[0m\u001b[0;34m(\u001b[0m\u001b[0mdays\u001b[0m\u001b[0;34m=\u001b[0m\u001b[0mint\u001b[0m\u001b[0;34m(\u001b[0m\u001b[0mdias\u001b[0m\u001b[0;34m)\u001b[0m\u001b[0;34m)\u001b[0m\u001b[0;34m\u001b[0m\u001b[0;34m\u001b[0m\u001b[0m\n\u001b[0m\u001b[1;32m     54\u001b[0m \u001b[0mfecha_fin\u001b[0m \u001b[0;34m=\u001b[0m \u001b[0mdatetime\u001b[0m\u001b[0;34m.\u001b[0m\u001b[0mnow\u001b[0m\u001b[0;34m(\u001b[0m\u001b[0;34m)\u001b[0m\u001b[0;34m\u001b[0m\u001b[0;34m\u001b[0m\u001b[0m\n\u001b[1;32m     55\u001b[0m \u001b[0;34m\u001b[0m\u001b[0m\n",
            "\u001b[0;31mNameError\u001b[0m: name 'datetime' is not defined"
          ]
        }
      ]
    },
    {
      "cell_type": "code",
      "source": [],
      "metadata": {
        "id": "tdFpQO_uACdF"
      },
      "execution_count": null,
      "outputs": []
    }
  ]
}